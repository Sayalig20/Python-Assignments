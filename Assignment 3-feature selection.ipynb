{
 "cells": [
  {
   "cell_type": "code",
   "execution_count": 2,
   "metadata": {},
   "outputs": [],
   "source": [
    "import pandas as pd\n",
    "import numpy as np"
   ]
  },
  {
   "cell_type": "code",
   "execution_count": 3,
   "metadata": {},
   "outputs": [],
   "source": [
    "melb=pd.read_csv(\"melb_data.csv\")"
   ]
  },
  {
   "cell_type": "code",
   "execution_count": 4,
   "metadata": {},
   "outputs": [
    {
     "name": "stdout",
     "output_type": "stream",
     "text": [
      "<class 'pandas.core.frame.DataFrame'>\n",
      "RangeIndex: 13580 entries, 0 to 13579\n",
      "Data columns (total 21 columns):\n",
      "Suburb           13580 non-null object\n",
      "Address          13580 non-null object\n",
      "Rooms            13580 non-null int64\n",
      "Type             13580 non-null object\n",
      "Price            13580 non-null float64\n",
      "Method           13580 non-null object\n",
      "SellerG          13580 non-null object\n",
      "Date             13580 non-null object\n",
      "Distance         13580 non-null float64\n",
      "Postcode         13580 non-null float64\n",
      "Bedroom2         13580 non-null float64\n",
      "Bathroom         13580 non-null float64\n",
      "Car              13518 non-null float64\n",
      "Landsize         13580 non-null float64\n",
      "BuildingArea     7130 non-null float64\n",
      "YearBuilt        8205 non-null float64\n",
      "CouncilArea      12211 non-null object\n",
      "Lattitude        13580 non-null float64\n",
      "Longtitude       13580 non-null float64\n",
      "Regionname       13580 non-null object\n",
      "Propertycount    13580 non-null float64\n",
      "dtypes: float64(12), int64(1), object(8)\n",
      "memory usage: 2.2+ MB\n"
     ]
    }
   ],
   "source": [
    "melb.info()"
   ]
  },
  {
   "cell_type": "code",
   "execution_count": 5,
   "metadata": {},
   "outputs": [
    {
     "data": {
      "text/html": [
       "<div>\n",
       "<style scoped>\n",
       "    .dataframe tbody tr th:only-of-type {\n",
       "        vertical-align: middle;\n",
       "    }\n",
       "\n",
       "    .dataframe tbody tr th {\n",
       "        vertical-align: top;\n",
       "    }\n",
       "\n",
       "    .dataframe thead th {\n",
       "        text-align: right;\n",
       "    }\n",
       "</style>\n",
       "<table border=\"1\" class=\"dataframe\">\n",
       "  <thead>\n",
       "    <tr style=\"text-align: right;\">\n",
       "      <th></th>\n",
       "      <th>Suburb</th>\n",
       "      <th>Address</th>\n",
       "      <th>Rooms</th>\n",
       "      <th>Type</th>\n",
       "      <th>Price</th>\n",
       "      <th>Method</th>\n",
       "      <th>SellerG</th>\n",
       "      <th>Date</th>\n",
       "      <th>Distance</th>\n",
       "      <th>Postcode</th>\n",
       "      <th>...</th>\n",
       "      <th>Bathroom</th>\n",
       "      <th>Car</th>\n",
       "      <th>Landsize</th>\n",
       "      <th>BuildingArea</th>\n",
       "      <th>YearBuilt</th>\n",
       "      <th>CouncilArea</th>\n",
       "      <th>Lattitude</th>\n",
       "      <th>Longtitude</th>\n",
       "      <th>Regionname</th>\n",
       "      <th>Propertycount</th>\n",
       "    </tr>\n",
       "  </thead>\n",
       "  <tbody>\n",
       "    <tr>\n",
       "      <th>0</th>\n",
       "      <td>Abbotsford</td>\n",
       "      <td>85 Turner St</td>\n",
       "      <td>2</td>\n",
       "      <td>h</td>\n",
       "      <td>1480000.0</td>\n",
       "      <td>S</td>\n",
       "      <td>Biggin</td>\n",
       "      <td>3/12/2016</td>\n",
       "      <td>2.5</td>\n",
       "      <td>3067.0</td>\n",
       "      <td>...</td>\n",
       "      <td>1.0</td>\n",
       "      <td>1.0</td>\n",
       "      <td>202.0</td>\n",
       "      <td>NaN</td>\n",
       "      <td>NaN</td>\n",
       "      <td>Yarra</td>\n",
       "      <td>-37.7996</td>\n",
       "      <td>144.9984</td>\n",
       "      <td>Northern Metropolitan</td>\n",
       "      <td>4019.0</td>\n",
       "    </tr>\n",
       "    <tr>\n",
       "      <th>1</th>\n",
       "      <td>Abbotsford</td>\n",
       "      <td>25 Bloomburg St</td>\n",
       "      <td>2</td>\n",
       "      <td>h</td>\n",
       "      <td>1035000.0</td>\n",
       "      <td>S</td>\n",
       "      <td>Biggin</td>\n",
       "      <td>4/02/2016</td>\n",
       "      <td>2.5</td>\n",
       "      <td>3067.0</td>\n",
       "      <td>...</td>\n",
       "      <td>1.0</td>\n",
       "      <td>0.0</td>\n",
       "      <td>156.0</td>\n",
       "      <td>79.0</td>\n",
       "      <td>1900.0</td>\n",
       "      <td>Yarra</td>\n",
       "      <td>-37.8079</td>\n",
       "      <td>144.9934</td>\n",
       "      <td>Northern Metropolitan</td>\n",
       "      <td>4019.0</td>\n",
       "    </tr>\n",
       "    <tr>\n",
       "      <th>2</th>\n",
       "      <td>Abbotsford</td>\n",
       "      <td>5 Charles St</td>\n",
       "      <td>3</td>\n",
       "      <td>h</td>\n",
       "      <td>1465000.0</td>\n",
       "      <td>SP</td>\n",
       "      <td>Biggin</td>\n",
       "      <td>4/03/2017</td>\n",
       "      <td>2.5</td>\n",
       "      <td>3067.0</td>\n",
       "      <td>...</td>\n",
       "      <td>2.0</td>\n",
       "      <td>0.0</td>\n",
       "      <td>134.0</td>\n",
       "      <td>150.0</td>\n",
       "      <td>1900.0</td>\n",
       "      <td>Yarra</td>\n",
       "      <td>-37.8093</td>\n",
       "      <td>144.9944</td>\n",
       "      <td>Northern Metropolitan</td>\n",
       "      <td>4019.0</td>\n",
       "    </tr>\n",
       "    <tr>\n",
       "      <th>3</th>\n",
       "      <td>Abbotsford</td>\n",
       "      <td>40 Federation La</td>\n",
       "      <td>3</td>\n",
       "      <td>h</td>\n",
       "      <td>850000.0</td>\n",
       "      <td>PI</td>\n",
       "      <td>Biggin</td>\n",
       "      <td>4/03/2017</td>\n",
       "      <td>2.5</td>\n",
       "      <td>3067.0</td>\n",
       "      <td>...</td>\n",
       "      <td>2.0</td>\n",
       "      <td>1.0</td>\n",
       "      <td>94.0</td>\n",
       "      <td>NaN</td>\n",
       "      <td>NaN</td>\n",
       "      <td>Yarra</td>\n",
       "      <td>-37.7969</td>\n",
       "      <td>144.9969</td>\n",
       "      <td>Northern Metropolitan</td>\n",
       "      <td>4019.0</td>\n",
       "    </tr>\n",
       "    <tr>\n",
       "      <th>4</th>\n",
       "      <td>Abbotsford</td>\n",
       "      <td>55a Park St</td>\n",
       "      <td>4</td>\n",
       "      <td>h</td>\n",
       "      <td>1600000.0</td>\n",
       "      <td>VB</td>\n",
       "      <td>Nelson</td>\n",
       "      <td>4/06/2016</td>\n",
       "      <td>2.5</td>\n",
       "      <td>3067.0</td>\n",
       "      <td>...</td>\n",
       "      <td>1.0</td>\n",
       "      <td>2.0</td>\n",
       "      <td>120.0</td>\n",
       "      <td>142.0</td>\n",
       "      <td>2014.0</td>\n",
       "      <td>Yarra</td>\n",
       "      <td>-37.8072</td>\n",
       "      <td>144.9941</td>\n",
       "      <td>Northern Metropolitan</td>\n",
       "      <td>4019.0</td>\n",
       "    </tr>\n",
       "  </tbody>\n",
       "</table>\n",
       "<p>5 rows × 21 columns</p>\n",
       "</div>"
      ],
      "text/plain": [
       "       Suburb           Address  Rooms Type      Price Method SellerG  \\\n",
       "0  Abbotsford      85 Turner St      2    h  1480000.0      S  Biggin   \n",
       "1  Abbotsford   25 Bloomburg St      2    h  1035000.0      S  Biggin   \n",
       "2  Abbotsford      5 Charles St      3    h  1465000.0     SP  Biggin   \n",
       "3  Abbotsford  40 Federation La      3    h   850000.0     PI  Biggin   \n",
       "4  Abbotsford       55a Park St      4    h  1600000.0     VB  Nelson   \n",
       "\n",
       "        Date  Distance  Postcode  ...  Bathroom  Car  Landsize  BuildingArea  \\\n",
       "0  3/12/2016       2.5    3067.0  ...       1.0  1.0     202.0           NaN   \n",
       "1  4/02/2016       2.5    3067.0  ...       1.0  0.0     156.0          79.0   \n",
       "2  4/03/2017       2.5    3067.0  ...       2.0  0.0     134.0         150.0   \n",
       "3  4/03/2017       2.5    3067.0  ...       2.0  1.0      94.0           NaN   \n",
       "4  4/06/2016       2.5    3067.0  ...       1.0  2.0     120.0         142.0   \n",
       "\n",
       "   YearBuilt  CouncilArea Lattitude  Longtitude             Regionname  \\\n",
       "0        NaN        Yarra  -37.7996    144.9984  Northern Metropolitan   \n",
       "1     1900.0        Yarra  -37.8079    144.9934  Northern Metropolitan   \n",
       "2     1900.0        Yarra  -37.8093    144.9944  Northern Metropolitan   \n",
       "3        NaN        Yarra  -37.7969    144.9969  Northern Metropolitan   \n",
       "4     2014.0        Yarra  -37.8072    144.9941  Northern Metropolitan   \n",
       "\n",
       "  Propertycount  \n",
       "0        4019.0  \n",
       "1        4019.0  \n",
       "2        4019.0  \n",
       "3        4019.0  \n",
       "4        4019.0  \n",
       "\n",
       "[5 rows x 21 columns]"
      ]
     },
     "execution_count": 5,
     "metadata": {},
     "output_type": "execute_result"
    }
   ],
   "source": [
    "melb.head()"
   ]
  },
  {
   "cell_type": "code",
   "execution_count": 6,
   "metadata": {},
   "outputs": [],
   "source": [
    "melb.Car.fillna(melb.Car.median(),inplace=True)\n",
    "melb.YearBuilt.fillna(melb.YearBuilt.median(),inplace=True)\n",
    "melb.BuildingArea.fillna(melb.BuildingArea.mean(),inplace=True)"
   ]
  },
  {
   "cell_type": "code",
   "execution_count": 7,
   "metadata": {},
   "outputs": [],
   "source": [
    "melb.CouncilArea.fillna(melb.CouncilArea.mode()[0],inplace=True)"
   ]
  },
  {
   "cell_type": "code",
   "execution_count": 8,
   "metadata": {},
   "outputs": [
    {
     "name": "stdout",
     "output_type": "stream",
     "text": [
      "<class 'pandas.core.frame.DataFrame'>\n",
      "RangeIndex: 13580 entries, 0 to 13579\n",
      "Data columns (total 21 columns):\n",
      "Suburb           13580 non-null object\n",
      "Address          13580 non-null object\n",
      "Rooms            13580 non-null int64\n",
      "Type             13580 non-null object\n",
      "Price            13580 non-null float64\n",
      "Method           13580 non-null object\n",
      "SellerG          13580 non-null object\n",
      "Date             13580 non-null object\n",
      "Distance         13580 non-null float64\n",
      "Postcode         13580 non-null float64\n",
      "Bedroom2         13580 non-null float64\n",
      "Bathroom         13580 non-null float64\n",
      "Car              13580 non-null float64\n",
      "Landsize         13580 non-null float64\n",
      "BuildingArea     13580 non-null float64\n",
      "YearBuilt        13580 non-null float64\n",
      "CouncilArea      13580 non-null object\n",
      "Lattitude        13580 non-null float64\n",
      "Longtitude       13580 non-null float64\n",
      "Regionname       13580 non-null object\n",
      "Propertycount    13580 non-null float64\n",
      "dtypes: float64(12), int64(1), object(8)\n",
      "memory usage: 2.2+ MB\n"
     ]
    }
   ],
   "source": [
    "melb.info()"
   ]
  },
  {
   "cell_type": "code",
   "execution_count": 19,
   "metadata": {},
   "outputs": [
    {
     "data": {
      "text/plain": [
       "array(['Yarra', 'Moonee Valley', 'Port Phillip', 'Darebin', 'Hobsons Bay',\n",
       "       'Stonnington', 'Boroondara', 'Monash', 'Glen Eira', 'Whitehorse',\n",
       "       'Maribyrnong', 'Bayside', 'Moreland', 'Manningham', 'Banyule',\n",
       "       'Melbourne', 'Kingston', 'Brimbank', 'Hume', 'Knox', 'Maroondah',\n",
       "       'Casey', 'Melton', 'Greater Dandenong', 'Nillumbik', 'Whittlesea',\n",
       "       'Frankston', 'Macedon Ranges', 'Yarra Ranges', 'Wyndham',\n",
       "       'Cardinia', 'Unavailable', 'Moorabool'], dtype=object)"
      ]
     },
     "execution_count": 19,
     "metadata": {},
     "output_type": "execute_result"
    }
   ],
   "source": [
    "melb.CouncilArea.unique()"
   ]
  },
  {
   "cell_type": "code",
   "execution_count": 22,
   "metadata": {},
   "outputs": [
    {
     "data": {
      "text/plain": [
       "array(['85 Turner St', '25 Bloomburg St', '5 Charles St', ...,\n",
       "       '83 Power St', '96 Verdon St', '6 Agnes St'], dtype=object)"
      ]
     },
     "execution_count": 22,
     "metadata": {},
     "output_type": "execute_result"
    }
   ],
   "source": [
    "melb.Address.unique()"
   ]
  },
  {
   "cell_type": "code",
   "execution_count": 18,
   "metadata": {},
   "outputs": [
    {
     "data": {
      "text/html": [
       "<div>\n",
       "<style scoped>\n",
       "    .dataframe tbody tr th:only-of-type {\n",
       "        vertical-align: middle;\n",
       "    }\n",
       "\n",
       "    .dataframe tbody tr th {\n",
       "        vertical-align: top;\n",
       "    }\n",
       "\n",
       "    .dataframe thead th {\n",
       "        text-align: right;\n",
       "    }\n",
       "</style>\n",
       "<table border=\"1\" class=\"dataframe\">\n",
       "  <thead>\n",
       "    <tr style=\"text-align: right;\">\n",
       "      <th></th>\n",
       "      <th>Car</th>\n",
       "      <th>Landsize</th>\n",
       "      <th>BuildingArea</th>\n",
       "      <th>YearBuilt</th>\n",
       "      <th>Price</th>\n",
       "    </tr>\n",
       "  </thead>\n",
       "  <tbody>\n",
       "    <tr>\n",
       "      <th>0</th>\n",
       "      <td>1.0</td>\n",
       "      <td>202.0</td>\n",
       "      <td>151.96765</td>\n",
       "      <td>1970.0</td>\n",
       "      <td>1480000.0</td>\n",
       "    </tr>\n",
       "    <tr>\n",
       "      <th>1</th>\n",
       "      <td>0.0</td>\n",
       "      <td>156.0</td>\n",
       "      <td>79.00000</td>\n",
       "      <td>1900.0</td>\n",
       "      <td>1035000.0</td>\n",
       "    </tr>\n",
       "    <tr>\n",
       "      <th>2</th>\n",
       "      <td>0.0</td>\n",
       "      <td>134.0</td>\n",
       "      <td>150.00000</td>\n",
       "      <td>1900.0</td>\n",
       "      <td>1465000.0</td>\n",
       "    </tr>\n",
       "    <tr>\n",
       "      <th>3</th>\n",
       "      <td>1.0</td>\n",
       "      <td>94.0</td>\n",
       "      <td>151.96765</td>\n",
       "      <td>1970.0</td>\n",
       "      <td>850000.0</td>\n",
       "    </tr>\n",
       "    <tr>\n",
       "      <th>4</th>\n",
       "      <td>2.0</td>\n",
       "      <td>120.0</td>\n",
       "      <td>142.00000</td>\n",
       "      <td>2014.0</td>\n",
       "      <td>1600000.0</td>\n",
       "    </tr>\n",
       "  </tbody>\n",
       "</table>\n",
       "</div>"
      ],
      "text/plain": [
       "   Car  Landsize  BuildingArea  YearBuilt      Price\n",
       "0  1.0     202.0     151.96765     1970.0  1480000.0\n",
       "1  0.0     156.0      79.00000     1900.0  1035000.0\n",
       "2  0.0     134.0     150.00000     1900.0  1465000.0\n",
       "3  1.0      94.0     151.96765     1970.0   850000.0\n",
       "4  2.0     120.0     142.00000     2014.0  1600000.0"
      ]
     },
     "execution_count": 18,
     "metadata": {},
     "output_type": "execute_result"
    }
   ],
   "source": [
    "melb_data = melb.iloc[:,[12,13,14,15,4]]\n",
    "features = melb.iloc[:,[12,13,14,15]].values\n",
    "label = melb.iloc[:,[4]].values\n",
    "melb_data.head()"
   ]
  },
  {
   "cell_type": "code",
   "execution_count": 19,
   "metadata": {},
   "outputs": [
    {
     "data": {
      "text/html": [
       "<div>\n",
       "<style scoped>\n",
       "    .dataframe tbody tr th:only-of-type {\n",
       "        vertical-align: middle;\n",
       "    }\n",
       "\n",
       "    .dataframe tbody tr th {\n",
       "        vertical-align: top;\n",
       "    }\n",
       "\n",
       "    .dataframe thead th {\n",
       "        text-align: right;\n",
       "    }\n",
       "</style>\n",
       "<table border=\"1\" class=\"dataframe\">\n",
       "  <thead>\n",
       "    <tr style=\"text-align: right;\">\n",
       "      <th></th>\n",
       "      <th>Car</th>\n",
       "      <th>Landsize</th>\n",
       "      <th>BuildingArea</th>\n",
       "      <th>YearBuilt</th>\n",
       "      <th>Price</th>\n",
       "    </tr>\n",
       "  </thead>\n",
       "  <tbody>\n",
       "    <tr>\n",
       "      <th>Car</th>\n",
       "      <td>1.000000</td>\n",
       "      <td>0.026780</td>\n",
       "      <td>0.068276</td>\n",
       "      <td>0.078696</td>\n",
       "      <td>0.239109</td>\n",
       "    </tr>\n",
       "    <tr>\n",
       "      <th>Landsize</th>\n",
       "      <td>0.026780</td>\n",
       "      <td>1.000000</td>\n",
       "      <td>0.094659</td>\n",
       "      <td>0.008806</td>\n",
       "      <td>0.037507</td>\n",
       "    </tr>\n",
       "    <tr>\n",
       "      <th>BuildingArea</th>\n",
       "      <td>0.068276</td>\n",
       "      <td>0.094659</td>\n",
       "      <td>1.000000</td>\n",
       "      <td>0.005178</td>\n",
       "      <td>0.069570</td>\n",
       "    </tr>\n",
       "    <tr>\n",
       "      <th>YearBuilt</th>\n",
       "      <td>0.078696</td>\n",
       "      <td>0.008806</td>\n",
       "      <td>0.005178</td>\n",
       "      <td>1.000000</td>\n",
       "      <td>-0.259387</td>\n",
       "    </tr>\n",
       "    <tr>\n",
       "      <th>Price</th>\n",
       "      <td>0.239109</td>\n",
       "      <td>0.037507</td>\n",
       "      <td>0.069570</td>\n",
       "      <td>-0.259387</td>\n",
       "      <td>1.000000</td>\n",
       "    </tr>\n",
       "  </tbody>\n",
       "</table>\n",
       "</div>"
      ],
      "text/plain": [
       "                   Car  Landsize  BuildingArea  YearBuilt     Price\n",
       "Car           1.000000  0.026780      0.068276   0.078696  0.239109\n",
       "Landsize      0.026780  1.000000      0.094659   0.008806  0.037507\n",
       "BuildingArea  0.068276  0.094659      1.000000   0.005178  0.069570\n",
       "YearBuilt     0.078696  0.008806      0.005178   1.000000 -0.259387\n",
       "Price         0.239109  0.037507      0.069570  -0.259387  1.000000"
      ]
     },
     "execution_count": 19,
     "metadata": {},
     "output_type": "execute_result"
    }
   ],
   "source": [
    "melb_data.corr()"
   ]
  },
  {
   "cell_type": "code",
   "execution_count": 20,
   "metadata": {},
   "outputs": [],
   "source": [
    "#Landsize and YearBuilt have lowest correlation,select YearBuilt and Car parking\n",
    "features = melb_data.iloc[:,[0,3]]\n",
    "label = melb_data.iloc[:,[4]]"
   ]
  },
  {
   "cell_type": "code",
   "execution_count": 21,
   "metadata": {},
   "outputs": [
    {
     "name": "stdout",
     "output_type": "stream",
     "text": [
      "Test Score: 0.13502544469544941 Training Score: 0.13500945694958555 Seed: 4\n",
      "Test Score: 0.14979924732469618 Training Score: 0.13118880034327784 Seed: 6\n",
      "Test Score: 0.16384860941151502 Training Score: 0.12809282848770231 Seed: 11\n",
      "Test Score: 0.1411382694004527 Training Score: 0.13332649950102315 Seed: 14\n",
      "Test Score: 0.15101729209717119 Training Score: 0.1312214796264075 Seed: 15\n",
      "Test Score: 0.15735761043610252 Training Score: 0.12899592870528998 Seed: 18\n",
      "Test Score: 0.14401423971757332 Training Score: 0.13251635368460013 Seed: 19\n",
      "Test Score: 0.14610611446391653 Training Score: 0.132156149816667 Seed: 20\n",
      "Test Score: 0.13726577646424343 Training Score: 0.13429807464087185 Seed: 21\n",
      "Test Score: 0.15808553366125222 Training Score: 0.12902409105181623 Seed: 22\n",
      "Test Score: 0.14963577755514956 Training Score: 0.13130437637203018 Seed: 23\n",
      "Test Score: 0.15115517619885244 Training Score: 0.1311457185705176 Seed: 26\n",
      "Test Score: 0.13555782250435966 Training Score: 0.13451161721757432 Seed: 28\n",
      "Test Score: 0.1378736323538309 Training Score: 0.13429459183823744 Seed: 33\n",
      "Test Score: 0.1567986466276341 Training Score: 0.12927192025342682 Seed: 37\n",
      "Test Score: 0.13509658934389124 Training Score: 0.13488517958148472 Seed: 38\n",
      "Test Score: 0.14695154360316187 Training Score: 0.1321497225495042 Seed: 39\n",
      "Test Score: 0.15226123572263273 Training Score: 0.13114189360506645 Seed: 43\n",
      "Test Score: 0.16131974707118757 Training Score: 0.12785984584223464 Seed: 45\n",
      "Test Score: 0.1366071786415074 Training Score: 0.13450177155854814 Seed: 46\n",
      "Test Score: 0.1464091651103161 Training Score: 0.13226126036194097 Seed: 48\n",
      "Test Score: 0.14490769420690552 Training Score: 0.13249965932337926 Seed: 49\n",
      "Test Score: 0.15344795863893979 Training Score: 0.12992156072168248 Seed: 50\n",
      "Test Score: 0.13741626259896622 Training Score: 0.13432644941120253 Seed: 51\n",
      "Test Score: 0.13856333995095182 Training Score: 0.1341919846533759 Seed: 55\n",
      "Test Score: 0.1655769099790937 Training Score: 0.12805418058831597 Seed: 57\n",
      "Test Score: 0.15960416526819365 Training Score: 0.12875433097237898 Seed: 58\n",
      "Test Score: 0.14941700787607293 Training Score: 0.13121071531352113 Seed: 60\n",
      "Test Score: 0.14518154357586477 Training Score: 0.13236250003359729 Seed: 61\n",
      "Test Score: 0.14522795978094205 Training Score: 0.13255274560149677 Seed: 66\n",
      "Test Score: 0.14610056085774312 Training Score: 0.1323605887784225 Seed: 67\n",
      "Test Score: 0.1424976468264979 Training Score: 0.13248477130584768 Seed: 71\n",
      "Test Score: 0.1367371902653467 Training Score: 0.13457445116857836 Seed: 74\n",
      "Test Score: 0.15183105553121778 Training Score: 0.1310600772985535 Seed: 76\n",
      "Test Score: 0.14430472806716588 Training Score: 0.13252389166118006 Seed: 77\n",
      "Test Score: 0.1385267785053823 Training Score: 0.13405609053834222 Seed: 78\n",
      "Test Score: 0.13526687988878228 Training Score: 0.13480748600226233 Seed: 80\n",
      "Test Score: 0.15323275963659377 Training Score: 0.13049638253238982 Seed: 81\n",
      "Test Score: 0.14199309622063716 Training Score: 0.1332018616697198 Seed: 82\n",
      "Test Score: 0.14079131142196166 Training Score: 0.13346033140765778 Seed: 85\n",
      "Test Score: 0.143073623787227 Training Score: 0.1326540979942028 Seed: 86\n",
      "Test Score: 0.14324377894477158 Training Score: 0.1329201891768993 Seed: 88\n",
      "Test Score: 0.1364413058840419 Training Score: 0.1345794417147641 Seed: 89\n",
      "Test Score: 0.13623306951990255 Training Score: 0.134760084085226 Seed: 92\n",
      "Test Score: 0.15818125297262187 Training Score: 0.1290727951129168 Seed: 94\n",
      "Test Score: 0.13517436910458613 Training Score: 0.13493832666927852 Seed: 97\n",
      "Test Score: 0.15068102174140985 Training Score: 0.13097546074687327 Seed: 98\n",
      "Test Score: 0.1512171633382009 Training Score: 0.13115779363981583 Seed: 99\n"
     ]
    }
   ],
   "source": [
    "from sklearn.model_selection import train_test_split\n",
    "from sklearn.linear_model import LinearRegression\n",
    "\n",
    "for i in range(1,100):\n",
    "    x_train,x_test,y_train,y_test = train_test_split(features,label,test_size=0.2,random_state=i)\n",
    "    \n",
    "    model = LinearRegression()\n",
    "    model.fit(x_train,y_train)\n",
    "    train_score = model.score(x_train,y_train)\n",
    "    test_score = model.score(x_test,y_test)\n",
    "    \n",
    "    if test_score > train_score:\n",
    "        print(\"Test Score: {} Training Score: {} Seed: {}\".format(test_score,train_score,i))"
   ]
  },
  {
   "cell_type": "code",
   "execution_count": null,
   "metadata": {
    "collapsed": true
   },
   "outputs": [],
   "source": [
    "#Conclusion - The model does not satisfy the accuracy requirements. Hence rejected."
   ]
  },
  {
   "cell_type": "code",
   "execution_count": 22,
   "metadata": {},
   "outputs": [],
   "source": [
    "featuresForRFE = melb.iloc[:,[12,13,14,15]].values\n",
    "labelForRFE = melb.iloc[:,[4]].values"
   ]
  },
  {
   "cell_type": "code",
   "execution_count": 24,
   "metadata": {},
   "outputs": [
    {
     "name": "stdout",
     "output_type": "stream",
     "text": [
      "Index(['Car', 'Landsize', 'BuildingArea', 'YearBuilt', 'Price'], dtype='object')\n",
      "[1 3 2 1]\n"
     ]
    },
    {
     "name": "stderr",
     "output_type": "stream",
     "text": [
      "C:\\Users\\Sayali\\Anaconda3\\lib\\site-packages\\sklearn\\utils\\validation.py:724: DataConversionWarning: A column-vector y was passed when a 1d array was expected. Please change the shape of y to (n_samples, ), for example using ravel().\n",
      "  y = column_or_1d(y, warn=True)\n"
     ]
    }
   ],
   "source": [
    "from sklearn.linear_model import LinearRegression \n",
    "\n",
    "modelForRFE = LinearRegression()\n",
    "\n",
    "from sklearn.feature_selection import RFE\n",
    "selectFeatures = RFE(estimator = modelForRFE,step=1)\n",
    "selectFeatures.fit(featuresForRFE,labelForRFE)\n",
    "\n",
    "print(melb_data.columns)\n",
    "print(selectFeatures.ranking_)"
   ]
  },
  {
   "cell_type": "code",
   "execution_count": 25,
   "metadata": {},
   "outputs": [],
   "source": [
    "#Price can be determined by Car column"
   ]
  },
  {
   "cell_type": "code",
   "execution_count": 26,
   "metadata": {},
   "outputs": [],
   "source": [
    "features = melb_data.iloc[:,[0]]\n",
    "label = melb_data.iloc[:,[4]]"
   ]
  },
  {
   "cell_type": "code",
   "execution_count": 27,
   "metadata": {},
   "outputs": [
    {
     "name": "stdout",
     "output_type": "stream",
     "text": [
      "Test Score: 0.0589268704309297 Training Score: 0.0567295824147096 Seed: 1\n",
      "Test Score: 0.06306750670748273 Training Score: 0.055773895182344435 Seed: 4\n",
      "Test Score: 0.06043277309497952 Training Score: 0.05629551234894059 Seed: 10\n",
      "Test Score: 0.07359049321203215 Training Score: 0.05319722039367136 Seed: 11\n",
      "Test Score: 0.057441528154416166 Training Score: 0.05668592879923884 Seed: 12\n",
      "Test Score: 0.06830965734748307 Training Score: 0.05417569576291292 Seed: 14\n",
      "Test Score: 0.06150393168365676 Training Score: 0.05591336976549599 Seed: 15\n",
      "Test Score: 0.06120965272205059 Training Score: 0.0560300365038684 Seed: 16\n",
      "Test Score: 0.05790996968403528 Training Score: 0.05680167011788406 Seed: 18\n",
      "Test Score: 0.06571707304761654 Training Score: 0.054779355005061925 Seed: 19\n",
      "Test Score: 0.0631403446567037 Training Score: 0.05560263076933236 Seed: 20\n",
      "Test Score: 0.060462435729874864 Training Score: 0.05614199224896166 Seed: 21\n",
      "Test Score: 0.06658256478807889 Training Score: 0.05473373032543605 Seed: 22\n",
      "Test Score: 0.06523136967361232 Training Score: 0.05504660140274853 Seed: 23\n",
      "Test Score: 0.059897899729820736 Training Score: 0.05639081861315476 Seed: 24\n",
      "Test Score: 0.06076916921761044 Training Score: 0.05625058540335959 Seed: 31\n",
      "Test Score: 0.060920293531954606 Training Score: 0.05622400013288109 Seed: 32\n",
      "Test Score: 0.0710520125356986 Training Score: 0.05334704938406121 Seed: 35\n",
      "Test Score: 0.0672146481835364 Training Score: 0.05464634339830399 Seed: 36\n",
      "Test Score: 0.06055892749137859 Training Score: 0.05627286981480284 Seed: 37\n",
      "Test Score: 0.05837962988699774 Training Score: 0.05670303999625126 Seed: 38\n",
      "Test Score: 0.06632251032784497 Training Score: 0.05504484292230427 Seed: 40\n",
      "Test Score: 0.07592491299805271 Training Score: 0.05254123900024976 Seed: 42\n",
      "Test Score: 0.058025089656581375 Training Score: 0.05696992913854726 Seed: 43\n",
      "Test Score: 0.07816658394340781 Training Score: 0.051413109798527645 Seed: 45\n",
      "Test Score: 0.067138542402568 Training Score: 0.05430859953643907 Seed: 50\n",
      "Test Score: 0.06697691575345943 Training Score: 0.054724115665595874 Seed: 51\n",
      "Test Score: 0.057621630626616294 Training Score: 0.05702377383898072 Seed: 53\n",
      "Test Score: 0.06897594377576655 Training Score: 0.0544146181371048 Seed: 57\n",
      "Test Score: 0.07151071216803417 Training Score: 0.05345974433573297 Seed: 58\n",
      "Test Score: 0.06502165660427628 Training Score: 0.055050929841658824 Seed: 60\n",
      "Test Score: 0.06268572601929723 Training Score: 0.055683784474727105 Seed: 61\n",
      "Test Score: 0.06395378633640869 Training Score: 0.055368563409816995 Seed: 63\n",
      "Test Score: 0.06986280559600966 Training Score: 0.05366070082941199 Seed: 65\n",
      "Test Score: 0.06804286433409801 Training Score: 0.0545215251548663 Seed: 67\n",
      "Test Score: 0.05962385566597095 Training Score: 0.056191766651484176 Seed: 68\n",
      "Test Score: 0.062317055829105954 Training Score: 0.05533733477173053 Seed: 69\n",
      "Test Score: 0.05813392591940537 Training Score: 0.05651065841400993 Seed: 71\n",
      "Test Score: 0.059478255693818594 Training Score: 0.05649199665636895 Seed: 77\n",
      "Test Score: 0.0635674727586526 Training Score: 0.05541793916929483 Seed: 78\n",
      "Test Score: 0.06807754897953 Training Score: 0.05442926762147471 Seed: 81\n",
      "Test Score: 0.0640856993859914 Training Score: 0.0553200507391427 Seed: 82\n",
      "Test Score: 0.05723008233243099 Training Score: 0.056770210552253286 Seed: 83\n",
      "Test Score: 0.060336037486226735 Training Score: 0.056140208985738904 Seed: 85\n",
      "Test Score: 0.06148725601837779 Training Score: 0.05604547898848988 Seed: 88\n",
      "Test Score: 0.058929130815222774 Training Score: 0.056564846228493226 Seed: 91\n",
      "Test Score: 0.057531709395672315 Training Score: 0.057082614111826246 Seed: 92\n",
      "Test Score: 0.05964541853087846 Training Score: 0.056525175620867896 Seed: 94\n",
      "Test Score: 0.06213675510568961 Training Score: 0.05584690600051334 Seed: 98\n"
     ]
    }
   ],
   "source": [
    "from sklearn.model_selection import train_test_split\n",
    "from sklearn.linear_model import LinearRegression\n",
    "\n",
    "for i in range(1,100):\n",
    "    x_train,x_test,y_train,y_test = train_test_split(features,label,test_size=0.2,random_state=i)\n",
    "    \n",
    "    model = LinearRegression()\n",
    "    model.fit(x_train,y_train)\n",
    "    train_score = model.score(x_train,y_train)\n",
    "    test_score = model.score(x_test,y_test)\n",
    "    \n",
    "    if test_score > train_score:\n",
    "        print(\"Test Score: {} Training Score: {} Seed: {}\".format(test_score,train_score,i))"
   ]
  },
  {
   "cell_type": "code",
   "execution_count": 28,
   "metadata": {},
   "outputs": [],
   "source": [
    "#Conclusion - The model does not satisfy the accuracy requirements. Hence rejected."
   ]
  },
  {
   "cell_type": "code",
   "execution_count": 29,
   "metadata": {},
   "outputs": [],
   "source": [
    "featuresForAnnova = melb_data.iloc[:,[0,1,2,3]]\n",
    "labelForAnnova = melb_data.iloc[:,[4]]"
   ]
  },
  {
   "cell_type": "code",
   "execution_count": 31,
   "metadata": {},
   "outputs": [
    {
     "name": "stdout",
     "output_type": "stream",
     "text": [
      "Index(['Car', 'Landsize', 'BuildingArea', 'YearBuilt', 'Price'], dtype='object')\n",
      "[ True False False  True]\n"
     ]
    },
    {
     "name": "stderr",
     "output_type": "stream",
     "text": [
      "C:\\Users\\Sayali\\Anaconda3\\lib\\site-packages\\sklearn\\utils\\validation.py:724: DataConversionWarning: A column-vector y was passed when a 1d array was expected. Please change the shape of y to (n_samples, ), for example using ravel().\n",
      "  y = column_or_1d(y, warn=True)\n"
     ]
    }
   ],
   "source": [
    "from sklearn.feature_selection import SelectPercentile\n",
    "from sklearn.feature_selection import f_regression\n",
    "\n",
    "selectFeaturesAnnova = SelectPercentile(percentile=50,score_func=f_regression)\n",
    "selectFeaturesAnnova.fit(featuresForAnnova,labelForAnnova)\n",
    "\n",
    "print(melb_data.columns)\n",
    "print(selectFeaturesAnnova.get_support())"
   ]
  },
  {
   "cell_type": "code",
   "execution_count": 32,
   "metadata": {},
   "outputs": [],
   "source": [
    "#Conclusion - Price depends on Car Parking Availability"
   ]
  },
  {
   "cell_type": "code",
   "execution_count": 33,
   "metadata": {},
   "outputs": [],
   "source": [
    "featuresForModel = melb_data.iloc[:,[0,1,2,3]]\n",
    "labelForModel = melb_data.iloc[:,[4]]"
   ]
  },
  {
   "cell_type": "code",
   "execution_count": 34,
   "metadata": {},
   "outputs": [
    {
     "name": "stdout",
     "output_type": "stream",
     "text": [
      "Index(['Car', 'Landsize', 'BuildingArea', 'YearBuilt', 'Price'], dtype='object')\n",
      "[ True False False False]\n"
     ]
    }
   ],
   "source": [
    "from sklearn.linear_model import LinearRegression\n",
    "\n",
    "modelForModel = LinearRegression()\n",
    "\n",
    "from sklearn.feature_selection import SelectFromModel\n",
    "\n",
    "selectFeaturesModel = SelectFromModel(modelForModel)\n",
    "selectFeaturesModel.fit(featuresForModel,labelForModel)\n",
    "\n",
    "print(melb_data.columns)\n",
    "print(selectFeaturesModel.get_support())"
   ]
  },
  {
   "cell_type": "code",
   "execution_count": null,
   "metadata": {},
   "outputs": [],
   "source": [
    "#Conclusion - Price depends on Car Parking Availability"
   ]
  }
 ],
 "metadata": {
  "kernelspec": {
   "display_name": "Python 3",
   "language": "python",
   "name": "python3"
  },
  "language_info": {
   "codemirror_mode": {
    "name": "ipython",
    "version": 3
   },
   "file_extension": ".py",
   "mimetype": "text/x-python",
   "name": "python",
   "nbconvert_exporter": "python",
   "pygments_lexer": "ipython3",
   "version": "3.7.3"
  }
 },
 "nbformat": 4,
 "nbformat_minor": 2
}
