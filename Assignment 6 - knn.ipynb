{
 "cells": [
  {
   "cell_type": "code",
   "execution_count": 1,
   "metadata": {},
   "outputs": [],
   "source": [
    "import pandas as pd\n",
    "import numpy as np"
   ]
  },
  {
   "cell_type": "code",
   "execution_count": 3,
   "metadata": {},
   "outputs": [],
   "source": [
    "iris = pd.read_csv(\"https://raw.githubusercontent.com/uiuc-cse/data-fa14/gh-pages/data/iris.csv\")"
   ]
  },
  {
   "cell_type": "code",
   "execution_count": 4,
   "metadata": {},
   "outputs": [
    {
     "name": "stdout",
     "output_type": "stream",
     "text": [
      "<class 'pandas.core.frame.DataFrame'>\n",
      "RangeIndex: 150 entries, 0 to 149\n",
      "Data columns (total 5 columns):\n",
      "sepal_length    150 non-null float64\n",
      "sepal_width     150 non-null float64\n",
      "petal_length    150 non-null float64\n",
      "petal_width     150 non-null float64\n",
      "species         150 non-null object\n",
      "dtypes: float64(4), object(1)\n",
      "memory usage: 5.9+ KB\n"
     ]
    }
   ],
   "source": [
    "iris.info()"
   ]
  },
  {
   "cell_type": "code",
   "execution_count": 6,
   "metadata": {},
   "outputs": [
    {
     "data": {
      "text/html": [
       "<div>\n",
       "<style scoped>\n",
       "    .dataframe tbody tr th:only-of-type {\n",
       "        vertical-align: middle;\n",
       "    }\n",
       "\n",
       "    .dataframe tbody tr th {\n",
       "        vertical-align: top;\n",
       "    }\n",
       "\n",
       "    .dataframe thead th {\n",
       "        text-align: right;\n",
       "    }\n",
       "</style>\n",
       "<table border=\"1\" class=\"dataframe\">\n",
       "  <thead>\n",
       "    <tr style=\"text-align: right;\">\n",
       "      <th></th>\n",
       "      <th>sepal_length</th>\n",
       "      <th>sepal_width</th>\n",
       "      <th>petal_length</th>\n",
       "      <th>petal_width</th>\n",
       "      <th>species</th>\n",
       "    </tr>\n",
       "  </thead>\n",
       "  <tbody>\n",
       "    <tr>\n",
       "      <th>0</th>\n",
       "      <td>5.1</td>\n",
       "      <td>3.5</td>\n",
       "      <td>1.4</td>\n",
       "      <td>0.2</td>\n",
       "      <td>setosa</td>\n",
       "    </tr>\n",
       "    <tr>\n",
       "      <th>1</th>\n",
       "      <td>4.9</td>\n",
       "      <td>3.0</td>\n",
       "      <td>1.4</td>\n",
       "      <td>0.2</td>\n",
       "      <td>setosa</td>\n",
       "    </tr>\n",
       "    <tr>\n",
       "      <th>2</th>\n",
       "      <td>4.7</td>\n",
       "      <td>3.2</td>\n",
       "      <td>1.3</td>\n",
       "      <td>0.2</td>\n",
       "      <td>setosa</td>\n",
       "    </tr>\n",
       "    <tr>\n",
       "      <th>3</th>\n",
       "      <td>4.6</td>\n",
       "      <td>3.1</td>\n",
       "      <td>1.5</td>\n",
       "      <td>0.2</td>\n",
       "      <td>setosa</td>\n",
       "    </tr>\n",
       "    <tr>\n",
       "      <th>4</th>\n",
       "      <td>5.0</td>\n",
       "      <td>3.6</td>\n",
       "      <td>1.4</td>\n",
       "      <td>0.2</td>\n",
       "      <td>setosa</td>\n",
       "    </tr>\n",
       "  </tbody>\n",
       "</table>\n",
       "</div>"
      ],
      "text/plain": [
       "   sepal_length  sepal_width  petal_length  petal_width species\n",
       "0           5.1          3.5           1.4          0.2  setosa\n",
       "1           4.9          3.0           1.4          0.2  setosa\n",
       "2           4.7          3.2           1.3          0.2  setosa\n",
       "3           4.6          3.1           1.5          0.2  setosa\n",
       "4           5.0          3.6           1.4          0.2  setosa"
      ]
     },
     "execution_count": 6,
     "metadata": {},
     "output_type": "execute_result"
    }
   ],
   "source": [
    "iris.head()"
   ]
  },
  {
   "cell_type": "code",
   "execution_count": 5,
   "metadata": {},
   "outputs": [
    {
     "data": {
      "text/plain": [
       "setosa        50\n",
       "versicolor    50\n",
       "virginica     50\n",
       "Name: species, dtype: int64"
      ]
     },
     "execution_count": 5,
     "metadata": {},
     "output_type": "execute_result"
    }
   ],
   "source": [
    "iris.species.value_counts()"
   ]
  },
  {
   "cell_type": "code",
   "execution_count": 7,
   "metadata": {},
   "outputs": [],
   "source": [
    "features=iris.iloc[:,[0,1,2,3]].values\n",
    "label=iris.iloc[:,4].values"
   ]
  },
  {
   "cell_type": "code",
   "execution_count": 25,
   "metadata": {},
   "outputs": [
    {
     "data": {
      "text/plain": [
       "LogisticRegression(C=1.0, class_weight=None, dual=False, fit_intercept=True,\n",
       "                   intercept_scaling=1, l1_ratio=None, max_iter=100,\n",
       "                   multi_class='warn', n_jobs=None, penalty='l2',\n",
       "                   random_state=None, solver='warn', tol=0.0001, verbose=0,\n",
       "                   warm_start=False)"
      ]
     },
     "execution_count": 25,
     "metadata": {},
     "output_type": "execute_result"
    }
   ],
   "source": [
    "from sklearn.model_selection import train_test_split\n",
    "  \n",
    "X_train,X_test,Y_train,Y_test = train_test_split(features,label,test_size=0.2,random_state=3)\n",
    "\n",
    "from sklearn.linear_model import LogisticRegression\n",
    "model1 = LogisticRegression()\n",
    "model1.fit(X_train,Y_train)"
   ]
  },
  {
   "cell_type": "code",
   "execution_count": 26,
   "metadata": {},
   "outputs": [
    {
     "name": "stdout",
     "output_type": "stream",
     "text": [
      "1.0\n",
      "0.9666666666666667\n"
     ]
    }
   ],
   "source": [
    "print(model1.score(X_test,Y_test))\n",
    "print(model1.score(X_train,Y_train))"
   ]
  },
  {
   "cell_type": "code",
   "execution_count": 27,
   "metadata": {},
   "outputs": [
    {
     "data": {
      "text/plain": [
       "array([[50,  0,  0],\n",
       "       [ 0, 46,  4],\n",
       "       [ 0,  0, 50]], dtype=int64)"
      ]
     },
     "execution_count": 27,
     "metadata": {},
     "output_type": "execute_result"
    }
   ],
   "source": [
    "from sklearn.metrics import confusion_matrix\n",
    "cm=confusion_matrix(label,model1.predict(features))\n",
    "cm"
   ]
  },
  {
   "cell_type": "code",
   "execution_count": 28,
   "metadata": {},
   "outputs": [
    {
     "name": "stdout",
     "output_type": "stream",
     "text": [
      "              precision    recall  f1-score   support\n",
      "\n",
      "      setosa       1.00      1.00      1.00        50\n",
      "  versicolor       1.00      0.92      0.96        50\n",
      "   virginica       0.93      1.00      0.96        50\n",
      "\n",
      "    accuracy                           0.97       150\n",
      "   macro avg       0.98      0.97      0.97       150\n",
      "weighted avg       0.98      0.97      0.97       150\n",
      "\n"
     ]
    }
   ],
   "source": [
    "from sklearn.metrics import classification_report\n",
    "\n",
    "print(classification_report(label,model1.predict(features)))"
   ]
  },
  {
   "cell_type": "code",
   "execution_count": 19,
   "metadata": {},
   "outputs": [
    {
     "name": "stdout",
     "output_type": "stream",
     "text": [
      "Test score:1.0 train score :0.9666666666666667 seed:3\n",
      "Test score:1.0 train score :0.95 seed:6\n",
      "Test score:1.0 train score :0.9583333333333334 seed:9\n",
      "Test score:0.9666666666666667 train score :0.9583333333333334 seed:13\n",
      "Test score:0.9666666666666667 train score :0.9583333333333334 seed:16\n",
      "Test score:0.9666666666666667 train score :0.9583333333333334 seed:18\n",
      "Test score:0.9666666666666667 train score :0.9583333333333334 seed:22\n",
      "Test score:1.0 train score :0.9583333333333334 seed:23\n",
      "Test score:1.0 train score :0.95 seed:24\n",
      "Test score:1.0 train score :0.95 seed:26\n",
      "Test score:0.9666666666666667 train score :0.9583333333333334 seed:27\n",
      "Test score:1.0 train score :0.95 seed:33\n",
      "Test score:0.9666666666666667 train score :0.9583333333333334 seed:35\n",
      "Test score:0.9666666666666667 train score :0.9583333333333334 seed:36\n",
      "Test score:1.0 train score :0.9666666666666667 seed:38\n",
      "Test score:1.0 train score :0.95 seed:39\n",
      "Test score:1.0 train score :0.9583333333333334 seed:42\n",
      "Test score:1.0 train score :0.95 seed:43\n",
      "Test score:1.0 train score :0.95 seed:44\n",
      "Test score:0.9666666666666667 train score :0.9583333333333334 seed:46\n",
      "Test score:1.0 train score :0.95 seed:47\n",
      "Test score:0.9666666666666667 train score :0.9583333333333334 seed:51\n",
      "Test score:0.9666666666666667 train score :0.9583333333333334 seed:54\n",
      "Test score:1.0 train score :0.95 seed:59\n",
      "Test score:0.9666666666666667 train score :0.9583333333333334 seed:60\n",
      "Test score:0.9666666666666667 train score :0.95 seed:61\n",
      "Test score:1.0 train score :0.9416666666666667 seed:62\n",
      "Test score:0.9666666666666667 train score :0.9583333333333334 seed:65\n",
      "Test score:0.9666666666666667 train score :0.9583333333333334 seed:68\n",
      "Test score:0.9666666666666667 train score :0.95 seed:70\n",
      "Test score:0.9666666666666667 train score :0.9583333333333334 seed:71\n",
      "Test score:1.0 train score :0.9583333333333334 seed:74\n",
      "Test score:1.0 train score :0.95 seed:81\n",
      "Test score:1.0 train score :0.9583333333333334 seed:82\n",
      "Test score:0.9666666666666667 train score :0.9583333333333334 seed:84\n",
      "Test score:0.9666666666666667 train score :0.9583333333333334 seed:85\n",
      "Test score:0.9666666666666667 train score :0.9583333333333334 seed:87\n",
      "Test score:0.9666666666666667 train score :0.9583333333333334 seed:90\n",
      "Test score:0.9666666666666667 train score :0.9583333333333334 seed:91\n",
      "Test score:0.9666666666666667 train score :0.9583333333333334 seed:96\n",
      "Test score:1.0 train score :0.95 seed:100\n",
      "Test score:0.9666666666666667 train score :0.9583333333333334 seed:101\n",
      "Test score:0.9666666666666667 train score :0.9583333333333334 seed:102\n",
      "Test score:0.9666666666666667 train score :0.95 seed:103\n",
      "Test score:1.0 train score :0.95 seed:104\n",
      "Test score:1.0 train score :0.9583333333333334 seed:107\n",
      "Test score:0.9666666666666667 train score :0.95 seed:111\n",
      "Test score:1.0 train score :0.95 seed:113\n",
      "Test score:0.9666666666666667 train score :0.9583333333333334 seed:115\n",
      "Test score:0.9666666666666667 train score :0.9583333333333334 seed:117\n",
      "Test score:0.9666666666666667 train score :0.9583333333333334 seed:118\n",
      "Test score:0.9666666666666667 train score :0.9583333333333334 seed:120\n",
      "Test score:1.0 train score :0.9666666666666667 seed:122\n",
      "Test score:1.0 train score :0.9583333333333334 seed:123\n",
      "Test score:0.9666666666666667 train score :0.9583333333333334 seed:125\n",
      "Test score:0.9666666666666667 train score :0.95 seed:126\n",
      "Test score:0.9666666666666667 train score :0.9583333333333334 seed:128\n",
      "Test score:0.9666666666666667 train score :0.95 seed:129\n",
      "Test score:1.0 train score :0.9583333333333334 seed:131\n",
      "Test score:1.0 train score :0.9583333333333334 seed:133\n",
      "Test score:1.0 train score :0.95 seed:135\n",
      "Test score:0.9666666666666667 train score :0.9583333333333334 seed:136\n",
      "Test score:1.0 train score :0.9416666666666667 seed:137\n",
      "Test score:1.0 train score :0.9583333333333334 seed:140\n",
      "Test score:0.9666666666666667 train score :0.9583333333333334 seed:141\n",
      "Test score:0.9666666666666667 train score :0.95 seed:142\n",
      "Test score:0.9666666666666667 train score :0.95 seed:143\n",
      "Test score:1.0 train score :0.9666666666666667 seed:144\n",
      "Test score:1.0 train score :0.95 seed:148\n",
      "Test score:1.0 train score :0.95 seed:149\n"
     ]
    }
   ],
   "source": [
    "from sklearn.model_selection import train_test_split\n",
    "import warnings\n",
    "warnings.filterwarnings('ignore')\n",
    "for i in range(1,150):\n",
    "    X_train,X_test,Y_train,Y_test = train_test_split(features,label,test_size=0.2,random_state=i)\n",
    "                                                     \n",
    "    from sklearn.linear_model import LogisticRegression\n",
    "    model = LogisticRegression()\n",
    "    model.fit(X_train,Y_train)\n",
    "    test_score = model.score(X_test,Y_test)\n",
    "    train_score = model.score(X_train,Y_train)\n",
    "    \n",
    "    if test_score > train_score:\n",
    "        print(\"Test score:{} train score :{} seed:{}\".format(test_score,train_score,i))"
   ]
  },
  {
   "cell_type": "code",
   "execution_count": 29,
   "metadata": {},
   "outputs": [
    {
     "data": {
      "text/plain": [
       "KNeighborsClassifier(algorithm='auto', leaf_size=30, metric='minkowski',\n",
       "                     metric_params=None, n_jobs=None, n_neighbors=5, p=2,\n",
       "                     weights='uniform')"
      ]
     },
     "execution_count": 29,
     "metadata": {},
     "output_type": "execute_result"
    }
   ],
   "source": [
    "from sklearn.model_selection import train_test_split\n",
    "  \n",
    "X_train,X_test,Y_train,Y_test = train_test_split(features,label,test_size=0.2,random_state=3)\n",
    "\n",
    "from sklearn.neighbors import KNeighborsClassifier\n",
    "model2 = KNeighborsClassifier()\n",
    "model2.fit(X_train,Y_train)"
   ]
  },
  {
   "cell_type": "code",
   "execution_count": 31,
   "metadata": {},
   "outputs": [
    {
     "name": "stdout",
     "output_type": "stream",
     "text": [
      "Test_score: 0.9666666666666667\n",
      "Train_score: 0.9666666666666667\n"
     ]
    }
   ],
   "source": [
    "print(\"Test_score:\",model2.score(X_test,Y_test))\n",
    "print(\"Train_score:\",model2.score(X_train,Y_train))"
   ]
  },
  {
   "cell_type": "code",
   "execution_count": 34,
   "metadata": {},
   "outputs": [
    {
     "data": {
      "text/plain": [
       "array([[50,  0,  0],\n",
       "       [ 0, 46,  4],\n",
       "       [ 0,  1, 49]], dtype=int64)"
      ]
     },
     "execution_count": 34,
     "metadata": {},
     "output_type": "execute_result"
    }
   ],
   "source": [
    "from sklearn.metrics import confusion_matrix\n",
    "cm=confusion_matrix(label,model2.predict(features))\n",
    "cm"
   ]
  },
  {
   "cell_type": "code",
   "execution_count": 35,
   "metadata": {},
   "outputs": [
    {
     "name": "stdout",
     "output_type": "stream",
     "text": [
      "              precision    recall  f1-score   support\n",
      "\n",
      "      setosa       1.00      1.00      1.00        50\n",
      "  versicolor       0.98      0.92      0.95        50\n",
      "   virginica       0.92      0.98      0.95        50\n",
      "\n",
      "    accuracy                           0.97       150\n",
      "   macro avg       0.97      0.97      0.97       150\n",
      "weighted avg       0.97      0.97      0.97       150\n",
      "\n"
     ]
    }
   ],
   "source": [
    "from sklearn.metrics import classification_report\n",
    "print(classification_report(label,model2.predict(features)))"
   ]
  },
  {
   "cell_type": "code",
   "execution_count": 37,
   "metadata": {},
   "outputs": [],
   "source": [
    "import pickle\n",
    "pickle.dump(model2,open('IrisFlowerPredictor.model','wb'))"
   ]
  },
  {
   "cell_type": "code",
   "execution_count": 38,
   "metadata": {},
   "outputs": [],
   "source": [
    "FlowerPredictor = pickle.load(open('IrisFlowerPredictor.model','rb'))"
   ]
  },
  {
   "cell_type": "code",
   "execution_count": 39,
   "metadata": {},
   "outputs": [
    {
     "name": "stdout",
     "output_type": "stream",
     "text": [
      "Enter Sepal Length:2.3\n",
      "Enter Sepal Width:3.4\n",
      "Enter Petal Length:4.5\n",
      "Enter Petal Width:3.4\n",
      "Species of the Flower is: ['virginica']\n"
     ]
    }
   ],
   "source": [
    "sepal_length=float(input(\"Enter Sepal Length:\"))\n",
    "sepal_width=float(input(\"Enter Sepal Width:\"))\n",
    "petal_length=float(input(\"Enter Petal Length:\"))\n",
    "petal_width=float(input(\"Enter Petal Width:\"))\n",
    "features = np.array([[sepal_length,sepal_width,petal_length,petal_width]])\n",
    "print(\"Species of the Flower is:\",FlowerPredictor.predict(features))"
   ]
  },
  {
   "cell_type": "code",
   "execution_count": null,
   "metadata": {},
   "outputs": [],
   "source": []
  }
 ],
 "metadata": {
  "kernelspec": {
   "display_name": "Python 3",
   "language": "python",
   "name": "python3"
  },
  "language_info": {
   "codemirror_mode": {
    "name": "ipython",
    "version": 3
   },
   "file_extension": ".py",
   "mimetype": "text/x-python",
   "name": "python",
   "nbconvert_exporter": "python",
   "pygments_lexer": "ipython3",
   "version": "3.7.3"
  }
 },
 "nbformat": 4,
 "nbformat_minor": 2
}
