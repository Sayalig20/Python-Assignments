{
 "cells": [
  {
   "cell_type": "code",
   "execution_count": 1,
   "metadata": {},
   "outputs": [],
   "source": [
    "import pandas as pd\n",
    "import numpy as np"
   ]
  },
  {
   "cell_type": "code",
   "execution_count": 2,
   "metadata": {},
   "outputs": [],
   "source": [
    "melb=pd.read_csv(\"melb_data.csv\")"
   ]
  },
  {
   "cell_type": "code",
   "execution_count": 3,
   "metadata": {},
   "outputs": [
    {
     "data": {
      "text/html": [
       "<div>\n",
       "<style scoped>\n",
       "    .dataframe tbody tr th:only-of-type {\n",
       "        vertical-align: middle;\n",
       "    }\n",
       "\n",
       "    .dataframe tbody tr th {\n",
       "        vertical-align: top;\n",
       "    }\n",
       "\n",
       "    .dataframe thead th {\n",
       "        text-align: right;\n",
       "    }\n",
       "</style>\n",
       "<table border=\"1\" class=\"dataframe\">\n",
       "  <thead>\n",
       "    <tr style=\"text-align: right;\">\n",
       "      <th></th>\n",
       "      <th>Car</th>\n",
       "      <th>Landsize</th>\n",
       "      <th>BuildingArea</th>\n",
       "      <th>YearBuilt</th>\n",
       "      <th>Price</th>\n",
       "    </tr>\n",
       "  </thead>\n",
       "  <tbody>\n",
       "    <tr>\n",
       "      <th>0</th>\n",
       "      <td>1.0</td>\n",
       "      <td>202.0</td>\n",
       "      <td>NaN</td>\n",
       "      <td>NaN</td>\n",
       "      <td>1480000.0</td>\n",
       "    </tr>\n",
       "    <tr>\n",
       "      <th>1</th>\n",
       "      <td>0.0</td>\n",
       "      <td>156.0</td>\n",
       "      <td>79.0</td>\n",
       "      <td>1900.0</td>\n",
       "      <td>1035000.0</td>\n",
       "    </tr>\n",
       "    <tr>\n",
       "      <th>2</th>\n",
       "      <td>0.0</td>\n",
       "      <td>134.0</td>\n",
       "      <td>150.0</td>\n",
       "      <td>1900.0</td>\n",
       "      <td>1465000.0</td>\n",
       "    </tr>\n",
       "    <tr>\n",
       "      <th>3</th>\n",
       "      <td>1.0</td>\n",
       "      <td>94.0</td>\n",
       "      <td>NaN</td>\n",
       "      <td>NaN</td>\n",
       "      <td>850000.0</td>\n",
       "    </tr>\n",
       "    <tr>\n",
       "      <th>4</th>\n",
       "      <td>2.0</td>\n",
       "      <td>120.0</td>\n",
       "      <td>142.0</td>\n",
       "      <td>2014.0</td>\n",
       "      <td>1600000.0</td>\n",
       "    </tr>\n",
       "  </tbody>\n",
       "</table>\n",
       "</div>"
      ],
      "text/plain": [
       "   Car  Landsize  BuildingArea  YearBuilt      Price\n",
       "0  1.0     202.0           NaN        NaN  1480000.0\n",
       "1  0.0     156.0          79.0     1900.0  1035000.0\n",
       "2  0.0     134.0         150.0     1900.0  1465000.0\n",
       "3  1.0      94.0           NaN        NaN   850000.0\n",
       "4  2.0     120.0         142.0     2014.0  1600000.0"
      ]
     },
     "execution_count": 3,
     "metadata": {},
     "output_type": "execute_result"
    }
   ],
   "source": [
    "melb_data = melb.iloc[:,[12,13,14,15,4]]\n",
    "melb_data.head()"
   ]
  },
  {
   "cell_type": "code",
   "execution_count": 4,
   "metadata": {},
   "outputs": [
    {
     "name": "stdout",
     "output_type": "stream",
     "text": [
      "<class 'pandas.core.frame.DataFrame'>\n",
      "RangeIndex: 13580 entries, 0 to 13579\n",
      "Data columns (total 5 columns):\n",
      "Car             13580 non-null float64\n",
      "Landsize        13580 non-null float64\n",
      "BuildingArea    13580 non-null float64\n",
      "YearBuilt       13580 non-null float64\n",
      "Price           13580 non-null float64\n",
      "dtypes: float64(5)\n",
      "memory usage: 530.5 KB\n"
     ]
    },
    {
     "name": "stderr",
     "output_type": "stream",
     "text": [
      "C:\\Users\\Sayali\\Anaconda3\\lib\\site-packages\\pandas\\core\\generic.py:6130: SettingWithCopyWarning: \n",
      "A value is trying to be set on a copy of a slice from a DataFrame\n",
      "\n",
      "See the caveats in the documentation: http://pandas.pydata.org/pandas-docs/stable/indexing.html#indexing-view-versus-copy\n",
      "  self._update_inplace(new_data)\n"
     ]
    }
   ],
   "source": [
    "melb_data.Car.fillna(melb_data.Car.median(),inplace=True)\n",
    "melb_data.YearBuilt.fillna(melb_data.YearBuilt.median(),inplace=True)\n",
    "melb_data.BuildingArea.fillna(melb_data.BuildingArea.mean(),inplace=True)\n",
    "melb_data.info()"
   ]
  },
  {
   "cell_type": "code",
   "execution_count": 5,
   "metadata": {},
   "outputs": [],
   "source": [
    "features = melb_data.iloc[:,[0,1,2,3]].values\n",
    "label = melb_data.iloc[:,[4]].values"
   ]
  },
  {
   "cell_type": "code",
   "execution_count": 7,
   "metadata": {},
   "outputs": [
    {
     "name": "stdout",
     "output_type": "stream",
     "text": [
      "Test Score: 0.15635646431634564 Training Score: 0.13368812606294378 Seed: 6\n",
      "Test Score: 0.16852990304191007 Training Score: 0.13134927964006038 Seed: 11\n",
      "Test Score: 0.14023061061469633 Training Score: 0.13738553383705376 Seed: 12\n",
      "Test Score: 0.14604365822931287 Training Score: 0.13650718054351296 Seed: 14\n",
      "Test Score: 0.156464431382222 Training Score: 0.1343356393361712 Seed: 15\n",
      "Test Score: 0.16275405817102195 Training Score: 0.13199400565336838 Seed: 18\n",
      "Test Score: 0.14908774073567133 Training Score: 0.13563832791180663 Seed: 19\n",
      "Test Score: 0.15271213437432019 Training Score: 0.1344961955494277 Seed: 20\n",
      "Test Score: 0.14175889917578943 Training Score: 0.13757348430560334 Seed: 21\n",
      "Test Score: 0.16253997331895087 Training Score: 0.1323342174928176 Seed: 22\n",
      "Test Score: 0.15650747222568417 Training Score: 0.134240386159733 Seed: 26\n",
      "Test Score: 0.1438039347703891 Training Score: 0.13714338626355493 Seed: 33\n",
      "Test Score: 0.16124883387661582 Training Score: 0.13196876512078415 Seed: 37\n",
      "Test Score: 0.14084041591538488 Training Score: 0.13778198116899953 Seed: 38\n",
      "Test Score: 0.1410583496138147 Training Score: 0.1373870089186534 Seed: 41\n",
      "Test Score: 0.1569589756642351 Training Score: 0.13445023079845764 Seed: 43\n",
      "Test Score: 0.16634504492963098 Training Score: 0.13094121145813853 Seed: 45\n",
      "Test Score: 0.14171595661519742 Training Score: 0.13758126537163284 Seed: 46\n",
      "Test Score: 0.15846591893054618 Training Score: 0.13303210091370055 Seed: 50\n",
      "Test Score: 0.14265874139403623 Training Score: 0.1374426633388196 Seed: 51\n",
      "Test Score: 0.17083254620988275 Training Score: 0.13120650160044334 Seed: 57\n",
      "Test Score: 0.154781041755504 Training Score: 0.13421747359386893 Seed: 60\n",
      "Test Score: 0.15053287973282137 Training Score: 0.13538469542530585 Seed: 61\n",
      "Test Score: 0.13942621178410275 Training Score: 0.1381142580707072 Seed: 63\n",
      "Test Score: 0.15055586228930384 Training Score: 0.1356467889079328 Seed: 66\n",
      "Test Score: 0.15115535609704778 Training Score: 0.1354772539493958 Seed: 67\n",
      "Test Score: 0.14061671535878983 Training Score: 0.13716394570838453 Seed: 74\n",
      "Test Score: 0.1572981794151248 Training Score: 0.13415159073057792 Seed: 76\n",
      "Test Score: 0.14906708016622627 Training Score: 0.13573319092937008 Seed: 77\n",
      "Test Score: 0.1435052781561723 Training Score: 0.1371250167454301 Seed: 78\n",
      "Test Score: 0.15827032256734852 Training Score: 0.13363064820240944 Seed: 81\n",
      "Test Score: 0.14663622015567512 Training Score: 0.13643817575685313 Seed: 82\n",
      "Test Score: 0.1457764680920436 Training Score: 0.13662844715297162 Seed: 85\n",
      "Test Score: 0.14793529641579395 Training Score: 0.13577658823985406 Seed: 86\n",
      "Test Score: 0.14691588924750143 Training Score: 0.13642304021027418 Seed: 88\n",
      "Test Score: 0.14170364398552948 Training Score: 0.1376003684390783 Seed: 89\n",
      "Test Score: 0.14430788962926977 Training Score: 0.1371363591313326 Seed: 92\n",
      "Test Score: 0.13819801881800686 Training Score: 0.13779713519002146 Seed: 95\n",
      "Test Score: 0.1402883976148771 Training Score: 0.13812818572827745 Seed: 97\n",
      "Test Score: 0.15645380681276344 Training Score: 0.13427344376925987 Seed: 99\n"
     ]
    }
   ],
   "source": [
    "from sklearn.model_selection import train_test_split\n",
    "from sklearn.linear_model import LinearRegression\n",
    "\n",
    "for i in range(1,100):\n",
    "    x_train,x_test,y_train,y_test = train_test_split(features,label,test_size=0.2,random_state=i)\n",
    "    \n",
    "    model = LinearRegression()\n",
    "    model.fit(x_train,y_train)\n",
    "    train_score = model.score(x_train,y_train)\n",
    "    test_score = model.score(x_test,y_test)\n",
    "    \n",
    "    if test_score > train_score:\n",
    "        print(\"Test Score: {} Training Score: {} Seed: {}\".format(test_score,train_score,i))\n"
   ]
  },
  {
   "cell_type": "code",
   "execution_count": null,
   "metadata": {},
   "outputs": [],
   "source": []
  }
 ],
 "metadata": {
  "kernelspec": {
   "display_name": "Python 3",
   "language": "python",
   "name": "python3"
  },
  "language_info": {
   "codemirror_mode": {
    "name": "ipython",
    "version": 3
   },
   "file_extension": ".py",
   "mimetype": "text/x-python",
   "name": "python",
   "nbconvert_exporter": "python",
   "pygments_lexer": "ipython3",
   "version": "3.7.3"
  }
 },
 "nbformat": 4,
 "nbformat_minor": 2
}
