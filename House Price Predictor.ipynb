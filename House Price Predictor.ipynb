{
 "cells": [
  {
   "cell_type": "code",
   "execution_count": 2,
   "metadata": {},
   "outputs": [],
   "source": [
    "import pandas as pd\n",
    "import numpy as np"
   ]
  },
  {
   "cell_type": "code",
   "execution_count": 3,
   "metadata": {},
   "outputs": [
    {
     "data": {
      "text/html": [
       "<div>\n",
       "<style scoped>\n",
       "    .dataframe tbody tr th:only-of-type {\n",
       "        vertical-align: middle;\n",
       "    }\n",
       "\n",
       "    .dataframe tbody tr th {\n",
       "        vertical-align: top;\n",
       "    }\n",
       "\n",
       "    .dataframe thead th {\n",
       "        text-align: right;\n",
       "    }\n",
       "</style>\n",
       "<table border=\"1\" class=\"dataframe\">\n",
       "  <thead>\n",
       "    <tr style=\"text-align: right;\">\n",
       "      <th></th>\n",
       "      <th>longitude</th>\n",
       "      <th>latitude</th>\n",
       "      <th>housing_median_age</th>\n",
       "      <th>total_rooms</th>\n",
       "      <th>total_bedrooms</th>\n",
       "      <th>population</th>\n",
       "      <th>households</th>\n",
       "      <th>median_income</th>\n",
       "      <th>ocean_proximity</th>\n",
       "      <th>median_house_value</th>\n",
       "    </tr>\n",
       "  </thead>\n",
       "  <tbody>\n",
       "    <tr>\n",
       "      <th>0</th>\n",
       "      <td>-122.23</td>\n",
       "      <td>37.88</td>\n",
       "      <td>41</td>\n",
       "      <td>880</td>\n",
       "      <td>129.0</td>\n",
       "      <td>322</td>\n",
       "      <td>126</td>\n",
       "      <td>8.3252</td>\n",
       "      <td>NEAR BAY</td>\n",
       "      <td>452600</td>\n",
       "    </tr>\n",
       "    <tr>\n",
       "      <th>1</th>\n",
       "      <td>-122.22</td>\n",
       "      <td>37.86</td>\n",
       "      <td>21</td>\n",
       "      <td>7099</td>\n",
       "      <td>1106.0</td>\n",
       "      <td>2401</td>\n",
       "      <td>1138</td>\n",
       "      <td>8.3014</td>\n",
       "      <td>NEAR BAY</td>\n",
       "      <td>358500</td>\n",
       "    </tr>\n",
       "    <tr>\n",
       "      <th>2</th>\n",
       "      <td>-122.24</td>\n",
       "      <td>37.85</td>\n",
       "      <td>52</td>\n",
       "      <td>1467</td>\n",
       "      <td>190.0</td>\n",
       "      <td>496</td>\n",
       "      <td>177</td>\n",
       "      <td>7.2574</td>\n",
       "      <td>NEAR BAY</td>\n",
       "      <td>352100</td>\n",
       "    </tr>\n",
       "    <tr>\n",
       "      <th>3</th>\n",
       "      <td>-122.25</td>\n",
       "      <td>37.85</td>\n",
       "      <td>52</td>\n",
       "      <td>1274</td>\n",
       "      <td>235.0</td>\n",
       "      <td>558</td>\n",
       "      <td>219</td>\n",
       "      <td>5.6431</td>\n",
       "      <td>NEAR BAY</td>\n",
       "      <td>341300</td>\n",
       "    </tr>\n",
       "    <tr>\n",
       "      <th>4</th>\n",
       "      <td>-122.25</td>\n",
       "      <td>37.85</td>\n",
       "      <td>52</td>\n",
       "      <td>1627</td>\n",
       "      <td>280.0</td>\n",
       "      <td>565</td>\n",
       "      <td>259</td>\n",
       "      <td>3.8462</td>\n",
       "      <td>NEAR BAY</td>\n",
       "      <td>342200</td>\n",
       "    </tr>\n",
       "  </tbody>\n",
       "</table>\n",
       "</div>"
      ],
      "text/plain": [
       "   longitude  latitude  housing_median_age  total_rooms  total_bedrooms  \\\n",
       "0    -122.23     37.88                  41          880           129.0   \n",
       "1    -122.22     37.86                  21         7099          1106.0   \n",
       "2    -122.24     37.85                  52         1467           190.0   \n",
       "3    -122.25     37.85                  52         1274           235.0   \n",
       "4    -122.25     37.85                  52         1627           280.0   \n",
       "\n",
       "   population  households  median_income ocean_proximity  median_house_value  \n",
       "0         322         126         8.3252        NEAR BAY              452600  \n",
       "1        2401        1138         8.3014        NEAR BAY              358500  \n",
       "2         496         177         7.2574        NEAR BAY              352100  \n",
       "3         558         219         5.6431        NEAR BAY              341300  \n",
       "4         565         259         3.8462        NEAR BAY              342200  "
      ]
     },
     "execution_count": 3,
     "metadata": {},
     "output_type": "execute_result"
    }
   ],
   "source": [
    "housing = pd.read_excel(\"housingdata.xlsx\")\n",
    "housing.head()"
   ]
  },
  {
   "cell_type": "code",
   "execution_count": 4,
   "metadata": {},
   "outputs": [
    {
     "data": {
      "text/plain": [
       "longitude               0\n",
       "latitude                0\n",
       "housing_median_age      0\n",
       "total_rooms             0\n",
       "total_bedrooms        207\n",
       "population              0\n",
       "households              0\n",
       "median_income           0\n",
       "ocean_proximity         0\n",
       "median_house_value      0\n",
       "dtype: int64"
      ]
     },
     "execution_count": 4,
     "metadata": {},
     "output_type": "execute_result"
    }
   ],
   "source": [
    "housing.isna().sum()"
   ]
  },
  {
   "cell_type": "code",
   "execution_count": 5,
   "metadata": {},
   "outputs": [
    {
     "name": "stdout",
     "output_type": "stream",
     "text": [
      "<class 'pandas.core.frame.DataFrame'>\n",
      "RangeIndex: 20640 entries, 0 to 20639\n",
      "Data columns (total 10 columns):\n",
      "longitude             20640 non-null float64\n",
      "latitude              20640 non-null float64\n",
      "housing_median_age    20640 non-null int64\n",
      "total_rooms           20640 non-null int64\n",
      "total_bedrooms        20433 non-null float64\n",
      "population            20640 non-null int64\n",
      "households            20640 non-null int64\n",
      "median_income         20640 non-null float64\n",
      "ocean_proximity       20640 non-null object\n",
      "median_house_value    20640 non-null int64\n",
      "dtypes: float64(4), int64(5), object(1)\n",
      "memory usage: 1.6+ MB\n"
     ]
    }
   ],
   "source": [
    "housing.info()"
   ]
  },
  {
   "cell_type": "code",
   "execution_count": 6,
   "metadata": {},
   "outputs": [],
   "source": [
    "#From the above information we found out that the total bedrooms column has missing data\n",
    "#As the data is of discrete type replace the na values with median value of total_bedrooms\n"
   ]
  },
  {
   "cell_type": "code",
   "execution_count": 7,
   "metadata": {},
   "outputs": [
    {
     "data": {
      "text/plain": [
       "longitude             0\n",
       "latitude              0\n",
       "housing_median_age    0\n",
       "total_rooms           0\n",
       "total_bedrooms        0\n",
       "population            0\n",
       "households            0\n",
       "median_income         0\n",
       "ocean_proximity       0\n",
       "median_house_value    0\n",
       "dtype: int64"
      ]
     },
     "execution_count": 7,
     "metadata": {},
     "output_type": "execute_result"
    }
   ],
   "source": [
    "housing.total_bedrooms.fillna(housing.total_bedrooms.median(),inplace = True)\n",
    "housing.isna().sum()"
   ]
  },
  {
   "cell_type": "code",
   "execution_count": 8,
   "metadata": {},
   "outputs": [],
   "source": [
    "#We have a categorical column ocean_proximity. As model building requires entire data to be numeric, \n",
    "#convert categorical data to numeric using One Hot Encoder\n"
   ]
  },
  {
   "cell_type": "code",
   "execution_count": 9,
   "metadata": {},
   "outputs": [],
   "source": [
    "features = housing.iloc[:,:-1].values\n",
    "label = housing.iloc[:,-1].values"
   ]
  },
  {
   "cell_type": "code",
   "execution_count": 10,
   "metadata": {},
   "outputs": [
    {
     "data": {
      "text/plain": [
       "array(['NEAR BAY', '<1H OCEAN', 'INLAND', 'NEAR OCEAN', 'ISLAND'],\n",
       "      dtype=object)"
      ]
     },
     "execution_count": 10,
     "metadata": {},
     "output_type": "execute_result"
    }
   ],
   "source": [
    "housing.ocean_proximity.unique()"
   ]
  },
  {
   "cell_type": "code",
   "execution_count": 11,
   "metadata": {},
   "outputs": [
    {
     "name": "stderr",
     "output_type": "stream",
     "text": [
      "C:\\Users\\Sayali\\Anaconda3\\lib\\site-packages\\sklearn\\preprocessing\\_encoders.py:415: FutureWarning: The handling of integer data will change in version 0.22. Currently, the categories are determined based on the range [0, max(values)], while in the future they will be determined based on the unique values.\n",
      "If you want the future behaviour and silence this warning, you can specify \"categories='auto'\".\n",
      "In case you used a LabelEncoder before this OneHotEncoder to convert the categories to integers, then you can now use the OneHotEncoder directly.\n",
      "  warnings.warn(msg, FutureWarning)\n",
      "C:\\Users\\Sayali\\Anaconda3\\lib\\site-packages\\sklearn\\preprocessing\\_encoders.py:451: DeprecationWarning: The 'categorical_features' keyword is deprecated in version 0.20 and will be removed in 0.22. You can use the ColumnTransformer instead.\n",
      "  \"use the ColumnTransformer instead.\", DeprecationWarning)\n"
     ]
    }
   ],
   "source": [
    "from sklearn.preprocessing import LabelEncoder\n",
    "from sklearn.preprocessing import OneHotEncoder\n",
    "\n",
    "OceanEncoder = LabelEncoder()\n",
    "features[:,8] = OceanEncoder.fit_transform(features[:,8])\n",
    "\n",
    "OHE = OneHotEncoder(categorical_features =[8])\n",
    "features = OHE.fit_transform(features).toarray()\n"
   ]
  },
  {
   "cell_type": "code",
   "execution_count": 12,
   "metadata": {},
   "outputs": [],
   "source": [
    "from sklearn.linear_model import LinearRegression\n",
    "\n",
    "model = LinearRegression()"
   ]
  },
  {
   "cell_type": "code",
   "execution_count": 54,
   "metadata": {},
   "outputs": [
    {
     "name": "stdout",
     "output_type": "stream",
     "text": [
      "[-1.04977039  0.56521245  0.20386101  0.20853328  0.54088425  0.37620224\n",
      "  0.27290395  0.17402553  0.12777043  0.32971686]\n",
      "Average Score Expected 0.17493396157619506\n"
     ]
    }
   ],
   "source": [
    "import warnings\n",
    "warnings.filterwarnings('ignore')\n",
    "\n",
    "from sklearn.model_selection import cross_val_score\n",
    "\n",
    "scores = cross_val_score(model,features,label,cv=10)\n",
    "\n",
    "print(scores)\n",
    "print(\"Average Score Expected\",np.average(scores))"
   ]
  },
  {
   "cell_type": "code",
   "execution_count": 55,
   "metadata": {},
   "outputs": [
    {
     "ename": "ValueError",
     "evalue": "The least populated class in y has only 1 member, which is too few. The minimum number of groups for any class cannot be less than 2.",
     "output_type": "error",
     "traceback": [
      "\u001b[1;31m---------------------------------------------------------------------------\u001b[0m",
      "\u001b[1;31mValueError\u001b[0m                                Traceback (most recent call last)",
      "\u001b[1;32m<ipython-input-55-09dedb863c49>\u001b[0m in \u001b[0;36m<module>\u001b[1;34m\u001b[0m\n\u001b[0;32m      6\u001b[0m \u001b[1;33m\u001b[0m\u001b[0m\n\u001b[0;32m      7\u001b[0m \u001b[0mi\u001b[0m\u001b[1;33m=\u001b[0m\u001b[1;36m0\u001b[0m\u001b[1;33m\u001b[0m\u001b[1;33m\u001b[0m\u001b[0m\n\u001b[1;32m----> 8\u001b[1;33m \u001b[1;32mfor\u001b[0m \u001b[0mtrain\u001b[0m\u001b[1;33m,\u001b[0m\u001b[0mtest\u001b[0m \u001b[1;32min\u001b[0m \u001b[0mss\u001b[0m\u001b[1;33m.\u001b[0m\u001b[0msplit\u001b[0m\u001b[1;33m(\u001b[0m\u001b[0mfeatures\u001b[0m\u001b[1;33m,\u001b[0m\u001b[0mlabel\u001b[0m\u001b[1;33m)\u001b[0m\u001b[1;33m:\u001b[0m\u001b[1;33m\u001b[0m\u001b[1;33m\u001b[0m\u001b[0m\n\u001b[0m\u001b[0;32m      9\u001b[0m     \u001b[0mi\u001b[0m \u001b[1;33m=\u001b[0m \u001b[0mi\u001b[0m\u001b[1;33m+\u001b[0m\u001b[1;36m1\u001b[0m\u001b[1;33m\u001b[0m\u001b[1;33m\u001b[0m\u001b[0m\n\u001b[0;32m     10\u001b[0m     \u001b[0mX_train\u001b[0m\u001b[1;33m,\u001b[0m\u001b[0mX_test\u001b[0m \u001b[1;33m=\u001b[0m \u001b[0mfeatures\u001b[0m\u001b[1;33m[\u001b[0m\u001b[0mtrain\u001b[0m\u001b[1;33m]\u001b[0m\u001b[1;33m,\u001b[0m\u001b[0mfeatures\u001b[0m\u001b[1;33m[\u001b[0m\u001b[0mtest\u001b[0m\u001b[1;33m]\u001b[0m\u001b[1;33m\u001b[0m\u001b[1;33m\u001b[0m\u001b[0m\n",
      "\u001b[1;32m~\\Anaconda3\\lib\\site-packages\\sklearn\\model_selection\\_split.py\u001b[0m in \u001b[0;36msplit\u001b[1;34m(self, X, y, groups)\u001b[0m\n\u001b[0;32m   1321\u001b[0m         \"\"\"\n\u001b[0;32m   1322\u001b[0m         \u001b[0mX\u001b[0m\u001b[1;33m,\u001b[0m \u001b[0my\u001b[0m\u001b[1;33m,\u001b[0m \u001b[0mgroups\u001b[0m \u001b[1;33m=\u001b[0m \u001b[0mindexable\u001b[0m\u001b[1;33m(\u001b[0m\u001b[0mX\u001b[0m\u001b[1;33m,\u001b[0m \u001b[0my\u001b[0m\u001b[1;33m,\u001b[0m \u001b[0mgroups\u001b[0m\u001b[1;33m)\u001b[0m\u001b[1;33m\u001b[0m\u001b[1;33m\u001b[0m\u001b[0m\n\u001b[1;32m-> 1323\u001b[1;33m         \u001b[1;32mfor\u001b[0m \u001b[0mtrain\u001b[0m\u001b[1;33m,\u001b[0m \u001b[0mtest\u001b[0m \u001b[1;32min\u001b[0m \u001b[0mself\u001b[0m\u001b[1;33m.\u001b[0m\u001b[0m_iter_indices\u001b[0m\u001b[1;33m(\u001b[0m\u001b[0mX\u001b[0m\u001b[1;33m,\u001b[0m \u001b[0my\u001b[0m\u001b[1;33m,\u001b[0m \u001b[0mgroups\u001b[0m\u001b[1;33m)\u001b[0m\u001b[1;33m:\u001b[0m\u001b[1;33m\u001b[0m\u001b[1;33m\u001b[0m\u001b[0m\n\u001b[0m\u001b[0;32m   1324\u001b[0m             \u001b[1;32myield\u001b[0m \u001b[0mtrain\u001b[0m\u001b[1;33m,\u001b[0m \u001b[0mtest\u001b[0m\u001b[1;33m\u001b[0m\u001b[1;33m\u001b[0m\u001b[0m\n\u001b[0;32m   1325\u001b[0m \u001b[1;33m\u001b[0m\u001b[0m\n",
      "\u001b[1;32m~\\Anaconda3\\lib\\site-packages\\sklearn\\model_selection\\_split.py\u001b[0m in \u001b[0;36m_iter_indices\u001b[1;34m(self, X, y, groups)\u001b[0m\n\u001b[0;32m   1634\u001b[0m         \u001b[0mclass_counts\u001b[0m \u001b[1;33m=\u001b[0m \u001b[0mnp\u001b[0m\u001b[1;33m.\u001b[0m\u001b[0mbincount\u001b[0m\u001b[1;33m(\u001b[0m\u001b[0my_indices\u001b[0m\u001b[1;33m)\u001b[0m\u001b[1;33m\u001b[0m\u001b[1;33m\u001b[0m\u001b[0m\n\u001b[0;32m   1635\u001b[0m         \u001b[1;32mif\u001b[0m \u001b[0mnp\u001b[0m\u001b[1;33m.\u001b[0m\u001b[0mmin\u001b[0m\u001b[1;33m(\u001b[0m\u001b[0mclass_counts\u001b[0m\u001b[1;33m)\u001b[0m \u001b[1;33m<\u001b[0m \u001b[1;36m2\u001b[0m\u001b[1;33m:\u001b[0m\u001b[1;33m\u001b[0m\u001b[1;33m\u001b[0m\u001b[0m\n\u001b[1;32m-> 1636\u001b[1;33m             raise ValueError(\"The least populated class in y has only 1\"\n\u001b[0m\u001b[0;32m   1637\u001b[0m                              \u001b[1;34m\" member, which is too few. The minimum\"\u001b[0m\u001b[1;33m\u001b[0m\u001b[1;33m\u001b[0m\u001b[0m\n\u001b[0;32m   1638\u001b[0m                              \u001b[1;34m\" number of groups for any class cannot\"\u001b[0m\u001b[1;33m\u001b[0m\u001b[1;33m\u001b[0m\u001b[0m\n",
      "\u001b[1;31mValueError\u001b[0m: The least populated class in y has only 1 member, which is too few. The minimum number of groups for any class cannot be less than 2."
     ]
    }
   ],
   "source": [
    "from sklearn.model_selection import StratifiedShuffleSplit\n",
    "\n",
    "ss = StratifiedShuffleSplit(n_splits=10, #n_splits should be equal to no of cv value in cross_val_score\n",
    "              random_state=2,\n",
    "              test_size=0.2)\n",
    "\n",
    "i=0\n",
    "for train,test in ss.split(features,label):\n",
    "    i = i+1\n",
    "    X_train,X_test = features[train],features[test]\n",
    "    y_train,y_test = label[train],label[test]\n",
    "    \n",
    "    model.fit(X_train,y_train)\n",
    "    \n",
    "    if model.score(X_test,y_test) >= 0.50:\n",
    "        print(\"Test Score: {} train score: {} for Sample Split: {}\".format(model.score(X_test,y_test),model.score(X_train,y_train),i))"
   ]
  },
  {
   "cell_type": "code",
   "execution_count": 20,
   "metadata": {},
   "outputs": [
    {
     "name": "stdout",
     "output_type": "stream",
     "text": [
      "Train Score:0.6434822518893747 Test Score:0.6531597816618034 for random state:3\n",
      "Train Score:0.6439298215129546 Test Score:0.6509064272123612 for random state:5\n",
      "Train Score:0.6430637891938789 Test Score:0.6544671065257387 for random state:8\n",
      "Train Score:0.644983145129434 Test Score:0.6465190215794524 for random state:10\n",
      "Train Score:0.6445453250410282 Test Score:0.6480365654556466 for random state:11\n",
      "Train Score:0.6449183829938719 Test Score:0.647121435461011 for random state:13\n",
      "Train Score:0.6439357679582444 Test Score:0.651283199337908 for random state:22\n",
      "Train Score:0.6419750701793757 Test Score:0.6585429403428698 for random state:23\n",
      "Train Score:0.6422946563674216 Test Score:0.6577792838981762 for random state:24\n",
      "Train Score:0.6448575025444155 Test Score:0.6475160987064845 for random state:25\n",
      "Train Score:0.6438363934963036 Test Score:0.6517508598209304 for random state:26\n",
      "Train Score:0.6446083070841679 Test Score:0.6484852997064094 for random state:27\n",
      "Train Score:0.6400143700748325 Test Score:0.6656003818999482 for random state:28\n",
      "Train Score:0.6449390976178955 Test Score:0.6469764331569237 for random state:29\n",
      "Train Score:0.6438496141010437 Test Score:0.649923240777597 for random state:33\n",
      "Train Score:0.6414003782118021 Test Score:0.6609520202294492 for random state:34\n",
      "Train Score:0.6422124934506106 Test Score:0.6582850028370709 for random state:37\n",
      "Train Score:0.642972573947909 Test Score:0.6545638126786717 for random state:38\n",
      "Train Score:0.6443738485305686 Test Score:0.6493521134522426 for random state:39\n",
      "Train Score:0.6433093129837044 Test Score:0.6527876038060262 for random state:40\n",
      "Train Score:0.641091937856301 Test Score:0.6617774292863091 for random state:44\n",
      "Train Score:0.6450836730028775 Test Score:0.6465462116749032 for random state:46\n",
      "Train Score:0.644024756116134 Test Score:0.6504532838230626 for random state:48\n",
      "Train Score:0.6437720663869632 Test Score:0.6512598583258663 for random state:51\n",
      "Train Score:0.6416740912468449 Test Score:0.6598008571461368 for random state:59\n",
      "Train Score:0.6435446117999674 Test Score:0.6521065391573868 for random state:60\n",
      "Train Score:0.6418645629748327 Test Score:0.6595277398746772 for random state:61\n",
      "Train Score:0.6447553448706762 Test Score:0.6450038207637648 for random state:63\n",
      "Train Score:0.6444995414189186 Test Score:0.6484510617482238 for random state:64\n",
      "Train Score:0.6438266215351156 Test Score:0.6497672038553588 for random state:66\n",
      "Train Score:0.6409100047545322 Test Score:0.6625632152002243 for random state:70\n",
      "Train Score:0.6421351512600415 Test Score:0.6581732079302903 for random state:73\n",
      "Train Score:0.6444711433847004 Test Score:0.6484824284301319 for random state:74\n",
      "Train Score:0.6439602204404529 Test Score:0.6510348186909737 for random state:78\n",
      "Train Score:0.6443225651539898 Test Score:0.649249005371581 for random state:81\n",
      "Train Score:0.6438861360959501 Test Score:0.6513630280533513 for random state:82\n",
      "Train Score:0.642902845954075 Test Score:0.6545209259500049 for random state:84\n",
      "Train Score:0.643880892289709 Test Score:0.6507471920558363 for random state:87\n",
      "Train Score:0.6406598457407382 Test Score:0.6637132276345847 for random state:90\n",
      "Train Score:0.6441604953727851 Test Score:0.6495656961308474 for random state:92\n",
      "Train Score:0.6441146082902964 Test Score:0.6501131940213546 for random state:93\n",
      "Train Score:0.6426431492407021 Test Score:0.6559706150727111 for random state:94\n",
      "Train Score:0.6446356739519007 Test Score:0.6480017921526127 for random state:95\n",
      "Train Score:0.6446243245831612 Test Score:0.6478804928194224 for random state:99\n"
     ]
    }
   ],
   "source": [
    "from sklearn.model_selection import train_test_split\n",
    "from sklearn.linear_model import LinearRegression\n",
    "\n",
    "for i in range(1,100):\n",
    "    X_train,X_test,Y_train,Y_test = train_test_split(features,label,random_state=i,test_size=0.2)\n",
    "    \n",
    "    model = LinearRegression()\n",
    "    model.fit(X_train,Y_train)\n",
    "    \n",
    "    test_score = model.score(X_test,Y_test)\n",
    "    train_score = model.score(X_train,Y_train)\n",
    "    \n",
    "    if test_score > train_score:\n",
    "        print(\"Train Score:{} Test Score:{} for random state:{}\".format(train_score,test_score,i))"
   ]
  },
  {
   "cell_type": "code",
   "execution_count": 21,
   "metadata": {},
   "outputs": [
    {
     "name": "stdout",
     "output_type": "stream",
     "text": [
      "Train Score:0.641091937856301 Test Score:0.6617774292863091 \n"
     ]
    }
   ],
   "source": [
    "from sklearn.model_selection import train_test_split\n",
    "from sklearn.linear_model import LinearRegression\n",
    "\n",
    "X_train,X_test,Y_train,Y_test = train_test_split(features,label,random_state=44,test_size=0.2)\n",
    "\n",
    "model = LinearRegression()\n",
    "model.fit(X_train,Y_train)\n",
    "    \n",
    "test_score = model.score(X_test,Y_test)\n",
    "train_score = model.score(X_train,Y_train)\n",
    "    \n",
    "print(\"Train Score:{} Test Score:{} \".format(train_score,test_score))"
   ]
  },
  {
   "cell_type": "code",
   "execution_count": 22,
   "metadata": {},
   "outputs": [],
   "source": [
    "# We are getting test score of 66 percent for linear Regression"
   ]
  },
  {
   "cell_type": "code",
   "execution_count": 44,
   "metadata": {},
   "outputs": [
    {
     "name": "stdout",
     "output_type": "stream",
     "text": [
      "Train Score:0.6731657484836934 Test Score:0.6739065966586669 for random state:23\n",
      "Train Score:0.6800030852440735 Test Score:0.6850201108942348 for random state:33\n",
      "Train Score:0.6743657240472378 Test Score:0.6767271621730004 for random state:63\n"
     ]
    }
   ],
   "source": [
    "from sklearn.model_selection import train_test_split\n",
    "from sklearn.tree import DecisionTreeRegressor\n",
    "\n",
    "for i in range(1,100):\n",
    "    X_train,X_test,Y_train,Y_test = train_test_split(features,label,random_state=i,test_size=0.2)\n",
    "    \n",
    "    model2 = DecisionTreeRegressor(max_depth = 6)\n",
    "    model2.fit(X_train,Y_train)\n",
    "    \n",
    "    test_score = model2.score(X_test,Y_test)\n",
    "    train_score = model2.score(X_train,Y_train)\n",
    "    \n",
    "    if test_score > train_score:\n",
    "        print(\"Train Score:{} Test Score:{} for random state:{}\".format(train_score,test_score,i))"
   ]
  },
  {
   "cell_type": "code",
   "execution_count": 45,
   "metadata": {},
   "outputs": [
    {
     "name": "stdout",
     "output_type": "stream",
     "text": [
      "Train Score:0.6800030852440735 Test Score:0.6818326871882512 \n"
     ]
    }
   ],
   "source": [
    "X_train,X_test,Y_train,Y_test = train_test_split(features,label,random_state=33,test_size=0.2)\n",
    "    \n",
    "model2 = DecisionTreeRegressor(max_depth = 6)\n",
    "model2.fit(X_train,Y_train)\n",
    "    \n",
    "test_score = model2.score(X_test,Y_test)\n",
    "train_score = model2.score(X_train,Y_train)\n",
    "    \n",
    "print(\"Train Score:{} Test Score:{} \".format(train_score,test_score))"
   ]
  },
  {
   "cell_type": "code",
   "execution_count": 46,
   "metadata": {},
   "outputs": [],
   "source": [
    "# We are getting test score of 68 percent for Decision Tree Regressor"
   ]
  },
  {
   "cell_type": "code",
   "execution_count": 50,
   "metadata": {},
   "outputs": [
    {
     "name": "stdout",
     "output_type": "stream",
     "text": [
      "Train Score:0.6972932301073871 Test Score:0.6983872139219761 for random state:23\n",
      "Train Score:0.704098798566442 Test Score:0.7092819167944047 for random state:33\n",
      "Train Score:0.7030918114320699 Test Score:0.7054341556008825 for random state:37\n",
      "Train Score:0.7035028721348131 Test Score:0.7046509335784883 for random state:60\n",
      "Train Score:0.7033080499537416 Test Score:0.7048352615408466 for random state:63\n",
      "Train Score:0.7024826836837803 Test Score:0.7025803826863322 for random state:66\n"
     ]
    }
   ],
   "source": [
    "from sklearn.model_selection import train_test_split\n",
    "from sklearn.ensemble import RandomForestRegressor\n",
    "\n",
    "for i in range(1,100):\n",
    "    X_train,X_test,Y_train,Y_test = train_test_split(features,label,random_state=i,test_size=0.2)\n",
    "    \n",
    "    model3 = RandomForestRegressor(n_estimators=10,max_depth=6)\n",
    "    model3.fit(X_train,Y_train)\n",
    "    \n",
    "    test_score = model3.score(X_test,Y_test)\n",
    "    train_score = model3.score(X_train,Y_train)\n",
    "    \n",
    "    if test_score > train_score:\n",
    "        print(\"Train Score:{} Test Score:{} for random state:{}\".format(train_score,test_score,i))"
   ]
  },
  {
   "cell_type": "code",
   "execution_count": 51,
   "metadata": {},
   "outputs": [
    {
     "name": "stdout",
     "output_type": "stream",
     "text": [
      "Train Score:0.7031038586999623 Test Score:0.713081263503918\n"
     ]
    }
   ],
   "source": [
    "X_train,X_test,Y_train,Y_test = train_test_split(features,label,random_state=33,test_size=0.2)\n",
    "    \n",
    "model3 = RandomForestRegressor(n_estimators=10,max_depth=6)\n",
    "model3.fit(X_train,Y_train)\n",
    "    \n",
    "test_score = model3.score(X_test,Y_test)\n",
    "train_score = model3.score(X_train,Y_train)\n",
    "    \n",
    "print(\"Train Score:{} Test Score:{}\".format(train_score,test_score))"
   ]
  },
  {
   "cell_type": "code",
   "execution_count": 52,
   "metadata": {},
   "outputs": [],
   "source": [
    "# We are getting test score of 71 percent for Random Forest Classifier"
   ]
  },
  {
   "cell_type": "code",
   "execution_count": null,
   "metadata": {},
   "outputs": [],
   "source": []
  }
 ],
 "metadata": {
  "kernelspec": {
   "display_name": "Python 3",
   "language": "python",
   "name": "python3"
  },
  "language_info": {
   "codemirror_mode": {
    "name": "ipython",
    "version": 3
   },
   "file_extension": ".py",
   "mimetype": "text/x-python",
   "name": "python",
   "nbconvert_exporter": "python",
   "pygments_lexer": "ipython3",
   "version": "3.7.3"
  }
 },
 "nbformat": 4,
 "nbformat_minor": 2
}
